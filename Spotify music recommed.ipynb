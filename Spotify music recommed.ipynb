{
 "cells": [
  {
   "cell_type": "code",
   "execution_count": 1,
   "id": "f2b16084-b4a6-4cc6-8df2-736c3aac8b51",
   "metadata": {},
   "outputs": [
    {
     "name": "stdout",
     "output_type": "stream",
     "text": [
      "Requirement already satisfied: spotipy in c:\\users\\asus\\anaconda3\\lib\\site-packages (2.24.0)\n",
      "Requirement already satisfied: redis>=3.5.3 in c:\\users\\asus\\anaconda3\\lib\\site-packages (from spotipy) (5.0.8)\n",
      "Requirement already satisfied: requests>=2.25.0 in c:\\users\\asus\\appdata\\roaming\\python\\python311\\site-packages (from spotipy) (2.31.0)\n",
      "Requirement already satisfied: urllib3>=1.26.0 in c:\\users\\asus\\appdata\\roaming\\python\\python311\\site-packages (from spotipy) (2.2.1)\n",
      "Requirement already satisfied: charset-normalizer<4,>=2 in c:\\users\\asus\\appdata\\roaming\\python\\python311\\site-packages (from requests>=2.25.0->spotipy) (3.3.2)\n",
      "Requirement already satisfied: idna<4,>=2.5 in c:\\users\\asus\\appdata\\roaming\\python\\python311\\site-packages (from requests>=2.25.0->spotipy) (3.6)\n",
      "Requirement already satisfied: certifi>=2017.4.17 in c:\\users\\asus\\appdata\\roaming\\python\\python311\\site-packages (from requests>=2.25.0->spotipy) (2024.2.2)\n"
     ]
    }
   ],
   "source": [
    "!pip install spotipy"
   ]
  },
  {
   "cell_type": "code",
   "execution_count": 1,
   "id": "8f12eb31-cfd8-400d-9d35-d39aa9681f16",
   "metadata": {},
   "outputs": [],
   "source": [
    "import pandas as pd\n",
    "import spotipy\n",
    "from spotipy.oauth2 import SpotifyClientCredentials\n",
    "import random"
   ]
  },
  {
   "cell_type": "code",
   "execution_count": 13,
   "id": "984bdd23-da57-416a-a268-5b3f559f2d98",
   "metadata": {},
   "outputs": [
    {
     "data": {
      "text/html": [
       "<div>\n",
       "<style scoped>\n",
       "    .dataframe tbody tr th:only-of-type {\n",
       "        vertical-align: middle;\n",
       "    }\n",
       "\n",
       "    .dataframe tbody tr th {\n",
       "        vertical-align: top;\n",
       "    }\n",
       "\n",
       "    .dataframe thead th {\n",
       "        text-align: right;\n",
       "    }\n",
       "</style>\n",
       "<table border=\"1\" class=\"dataframe\">\n",
       "  <thead>\n",
       "    <tr style=\"text-align: right;\">\n",
       "      <th></th>\n",
       "      <th>name</th>\n",
       "      <th>album</th>\n",
       "      <th>artist</th>\n",
       "      <th>id</th>\n",
       "      <th>release_date</th>\n",
       "      <th>popularity</th>\n",
       "      <th>length</th>\n",
       "      <th>danceability</th>\n",
       "      <th>acousticness</th>\n",
       "      <th>energy</th>\n",
       "      <th>instrumentalness</th>\n",
       "      <th>liveness</th>\n",
       "      <th>valence</th>\n",
       "      <th>loudness</th>\n",
       "      <th>speechiness</th>\n",
       "      <th>tempo</th>\n",
       "      <th>key</th>\n",
       "      <th>time_signature</th>\n",
       "      <th>mood</th>\n",
       "    </tr>\n",
       "  </thead>\n",
       "  <tbody>\n",
       "    <tr>\n",
       "      <th>0</th>\n",
       "      <td>1999</td>\n",
       "      <td>1999</td>\n",
       "      <td>Prince</td>\n",
       "      <td>2H7PHVdQ3mXqEHXcvclTB0</td>\n",
       "      <td>1982-10-27</td>\n",
       "      <td>68</td>\n",
       "      <td>379266</td>\n",
       "      <td>0.866</td>\n",
       "      <td>0.13700</td>\n",
       "      <td>0.730</td>\n",
       "      <td>0.000000</td>\n",
       "      <td>0.0843</td>\n",
       "      <td>0.625</td>\n",
       "      <td>-8.201</td>\n",
       "      <td>0.0767</td>\n",
       "      <td>118.523</td>\n",
       "      <td>5</td>\n",
       "      <td>4</td>\n",
       "      <td>Happy</td>\n",
       "    </tr>\n",
       "    <tr>\n",
       "      <th>1</th>\n",
       "      <td>23</td>\n",
       "      <td>23</td>\n",
       "      <td>Blonde Redhead</td>\n",
       "      <td>4HIwL9ii9CcXpTOTzMq0MP</td>\n",
       "      <td>2007-04-16</td>\n",
       "      <td>43</td>\n",
       "      <td>318800</td>\n",
       "      <td>0.381</td>\n",
       "      <td>0.01890</td>\n",
       "      <td>0.832</td>\n",
       "      <td>0.196000</td>\n",
       "      <td>0.1530</td>\n",
       "      <td>0.166</td>\n",
       "      <td>-5.069</td>\n",
       "      <td>0.0492</td>\n",
       "      <td>120.255</td>\n",
       "      <td>8</td>\n",
       "      <td>4</td>\n",
       "      <td>Sad</td>\n",
       "    </tr>\n",
       "    <tr>\n",
       "      <th>2</th>\n",
       "      <td>9 Crimes</td>\n",
       "      <td>9</td>\n",
       "      <td>Damien Rice</td>\n",
       "      <td>5GZEeowhvSieFDiR8fQ2im</td>\n",
       "      <td>2006-11-06</td>\n",
       "      <td>60</td>\n",
       "      <td>217946</td>\n",
       "      <td>0.346</td>\n",
       "      <td>0.91300</td>\n",
       "      <td>0.139</td>\n",
       "      <td>0.000077</td>\n",
       "      <td>0.0934</td>\n",
       "      <td>0.116</td>\n",
       "      <td>-15.326</td>\n",
       "      <td>0.0321</td>\n",
       "      <td>136.168</td>\n",
       "      <td>0</td>\n",
       "      <td>4</td>\n",
       "      <td>Sad</td>\n",
       "    </tr>\n",
       "    <tr>\n",
       "      <th>3</th>\n",
       "      <td>99 Luftballons</td>\n",
       "      <td>99 Luftballons</td>\n",
       "      <td>Nena</td>\n",
       "      <td>6HA97v4wEGQ5TUClRM0XLc</td>\n",
       "      <td>1984-08-21</td>\n",
       "      <td>2</td>\n",
       "      <td>233000</td>\n",
       "      <td>0.466</td>\n",
       "      <td>0.08900</td>\n",
       "      <td>0.438</td>\n",
       "      <td>0.000006</td>\n",
       "      <td>0.1130</td>\n",
       "      <td>0.587</td>\n",
       "      <td>-12.858</td>\n",
       "      <td>0.0608</td>\n",
       "      <td>193.100</td>\n",
       "      <td>4</td>\n",
       "      <td>4</td>\n",
       "      <td>Happy</td>\n",
       "    </tr>\n",
       "    <tr>\n",
       "      <th>4</th>\n",
       "      <td>A Boy Brushed Red Living In Black And White</td>\n",
       "      <td>They're Only Chasing Safety</td>\n",
       "      <td>Underoath</td>\n",
       "      <td>47IWLfIKOKhFnz1FUEUIkE</td>\n",
       "      <td>2004-01-01</td>\n",
       "      <td>60</td>\n",
       "      <td>268000</td>\n",
       "      <td>0.419</td>\n",
       "      <td>0.00171</td>\n",
       "      <td>0.932</td>\n",
       "      <td>0.000000</td>\n",
       "      <td>0.1370</td>\n",
       "      <td>0.445</td>\n",
       "      <td>-3.604</td>\n",
       "      <td>0.1060</td>\n",
       "      <td>169.881</td>\n",
       "      <td>1</td>\n",
       "      <td>4</td>\n",
       "      <td>Energetic</td>\n",
       "    </tr>\n",
       "  </tbody>\n",
       "</table>\n",
       "</div>"
      ],
      "text/plain": [
       "                                          name                        album  \\\n",
       "0                                         1999                         1999   \n",
       "1                                           23                           23   \n",
       "2                                     9 Crimes                            9   \n",
       "3                               99 Luftballons               99 Luftballons   \n",
       "4  A Boy Brushed Red Living In Black And White  They're Only Chasing Safety   \n",
       "\n",
       "           artist                      id release_date  popularity  length  \\\n",
       "0          Prince  2H7PHVdQ3mXqEHXcvclTB0   1982-10-27          68  379266   \n",
       "1  Blonde Redhead  4HIwL9ii9CcXpTOTzMq0MP   2007-04-16          43  318800   \n",
       "2     Damien Rice  5GZEeowhvSieFDiR8fQ2im   2006-11-06          60  217946   \n",
       "3            Nena  6HA97v4wEGQ5TUClRM0XLc   1984-08-21           2  233000   \n",
       "4       Underoath  47IWLfIKOKhFnz1FUEUIkE   2004-01-01          60  268000   \n",
       "\n",
       "   danceability  acousticness  energy  instrumentalness  liveness  valence  \\\n",
       "0         0.866       0.13700   0.730          0.000000    0.0843    0.625   \n",
       "1         0.381       0.01890   0.832          0.196000    0.1530    0.166   \n",
       "2         0.346       0.91300   0.139          0.000077    0.0934    0.116   \n",
       "3         0.466       0.08900   0.438          0.000006    0.1130    0.587   \n",
       "4         0.419       0.00171   0.932          0.000000    0.1370    0.445   \n",
       "\n",
       "   loudness  speechiness    tempo  key  time_signature       mood  \n",
       "0    -8.201       0.0767  118.523    5               4      Happy  \n",
       "1    -5.069       0.0492  120.255    8               4        Sad  \n",
       "2   -15.326       0.0321  136.168    0               4        Sad  \n",
       "3   -12.858       0.0608  193.100    4               4      Happy  \n",
       "4    -3.604       0.1060  169.881    1               4  Energetic  "
      ]
     },
     "execution_count": 13,
     "metadata": {},
     "output_type": "execute_result"
    }
   ],
   "source": [
    "music_data = pd.read_csv('data_moods.csv')\n",
    "music_data.head()"
   ]
  },
  {
   "cell_type": "code",
   "execution_count": 14,
   "id": "5ab655ec-f4c3-4997-8d3a-347b017cf9d3",
   "metadata": {},
   "outputs": [
    {
     "data": {
      "text/plain": [
       "name                0\n",
       "album               0\n",
       "artist              0\n",
       "id                  0\n",
       "release_date        0\n",
       "popularity          0\n",
       "length              0\n",
       "danceability        0\n",
       "acousticness        0\n",
       "energy              0\n",
       "instrumentalness    0\n",
       "liveness            0\n",
       "valence             0\n",
       "loudness            0\n",
       "speechiness         0\n",
       "tempo               0\n",
       "key                 0\n",
       "time_signature      0\n",
       "mood                0\n",
       "dtype: int64"
      ]
     },
     "execution_count": 14,
     "metadata": {},
     "output_type": "execute_result"
    }
   ],
   "source": [
    "music_data.isnull().sum()"
   ]
  },
  {
   "cell_type": "code",
   "execution_count": 15,
   "id": "d056970a-3b90-46b6-80a0-5f28b3e0f24d",
   "metadata": {},
   "outputs": [
    {
     "data": {
      "text/plain": [
       "0          Happy\n",
       "1            Sad\n",
       "2            Sad\n",
       "3          Happy\n",
       "4      Energetic\n",
       "         ...    \n",
       "681         Calm\n",
       "682          Sad\n",
       "683          Sad\n",
       "684          Sad\n",
       "685         Calm\n",
       "Name: mood, Length: 686, dtype: object"
      ]
     },
     "execution_count": 15,
     "metadata": {},
     "output_type": "execute_result"
    }
   ],
   "source": [
    "music_data['mood']"
   ]
  },
  {
   "cell_type": "code",
   "execution_count": 16,
   "id": "fd964572-1d41-42d9-b879-76502401b76d",
   "metadata": {},
   "outputs": [],
   "source": [
    "SPOTIPY_CLIENT_ID = '1a332a9873bc4d739adfe877e87e790f'\n",
    "SPOTIPY_CLIENT_SECRET = 'f1ec74c0bb1f471097b4631bbf19df72'\n",
    "\n",
    "sp = spotipy.Spotify(auth_manager=SpotifyClientCredentials(client_id=SPOTIPY_CLIENT_ID, client_secret=SPOTIPY_CLIENT_SECRET))"
   ]
  },
  {
   "cell_type": "code",
   "execution_count": 17,
   "id": "bb93738e-9809-4e8c-b4c4-f75859596cf4",
   "metadata": {},
   "outputs": [],
   "source": [
    "def map_emotion_to_mood(emotion):\n",
    "    mood_mapping = {\n",
    "        'happy':'Happy',\n",
    "        'sad':'Sad',\n",
    "        'angry':'Calm',\n",
    "        'neutral':'Energetic',\n",
    "        'fear':'Calm',\n",
    "        'disgust':'Happy',\n",
    "        'surprise':'Energetic'\n",
    "    }\n",
    "    return mood_mapping.get(emotion)"
   ]
  },
  {
   "cell_type": "code",
   "execution_count": 18,
   "id": "1cd85676-2f43-4d5b-99e2-840aa52b47f0",
   "metadata": {},
   "outputs": [],
   "source": [
    "def recommend_music(emotion):\n",
    "    mood = map_emotion_to_mood(emotion)\n",
    "    filtered_tracks = music_data[music_data['mood'] == mood]\n",
    "\n",
    "    if not filtered_tracks.empty:\n",
    "        selected_tracks = filtered_tracks.sample(n=5).iloc[0]\n",
    "        return selected_tracks['name'], selected_tracks['artist']\n",
    "    else:\n",
    "        return None, None"
   ]
  },
  {
   "cell_type": "code",
   "execution_count": 19,
   "id": "41e7c749-5461-43f6-a8dc-d692042a9f40",
   "metadata": {},
   "outputs": [],
   "source": [
    "def play_music_on_spotify(track_name, artist_name):\n",
    "    query = f'track:{track_name} artist:{artist_name}'\n",
    "    results = sp.search(q=query, limit=1)\n",
    "    if results['tracks']['items']:\n",
    "        track_uri = results['tracks']['items'][0]['uri']\n",
    "        print(f\"Playing: {track_name} by {artist_name}\")\n",
    "        print(f\"Track URI: {track_uri}\")\n",
    "    else:\n",
    "        print(\"Track not found on Spotify.\")"
   ]
  },
  {
   "cell_type": "code",
   "execution_count": 29,
   "id": "f022bf46-6ef2-4b82-b85c-9c02909bc050",
   "metadata": {},
   "outputs": [
    {
     "name": "stdout",
     "output_type": "stream",
     "text": [
      "Recommended Track: Every Way by Antonio Giacca\n",
      "Playing: Every Way by Antonio Giacca\n",
      "Track URI: spotify:track:4xxyCh7xkK30LVBO81poif\n"
     ]
    }
   ],
   "source": [
    "detected_emotion = 'surprise'\n",
    "track_name, artist_name = recommend_music(detected_emotion)\n",
    "\n",
    "if track_name:\n",
    "    print(f\"Recommended Track: {track_name} by {artist_name}\")\n",
    "    play_music_on_spotify(track_name, artist_name)\n",
    "else:\n",
    "    print('No suitable track found for the detected emotion')"
   ]
  },
  {
   "cell_type": "code",
   "execution_count": null,
   "id": "f8864799-41ae-4680-88f9-1348fa001537",
   "metadata": {},
   "outputs": [],
   "source": []
  },
  {
   "cell_type": "code",
   "execution_count": null,
   "id": "5c366b48-63a9-4a9d-b1a8-1141f63d7d6e",
   "metadata": {},
   "outputs": [],
   "source": []
  },
  {
   "cell_type": "code",
   "execution_count": null,
   "id": "bfba11c6-5ae8-49ae-81a0-64dc5808ab39",
   "metadata": {},
   "outputs": [],
   "source": []
  },
  {
   "cell_type": "code",
   "execution_count": null,
   "id": "ff6b6495-d7b0-4847-8376-5697f835c5d6",
   "metadata": {},
   "outputs": [],
   "source": []
  },
  {
   "cell_type": "code",
   "execution_count": null,
   "id": "d6e1503f-b9a3-4ea5-99b4-543f3a833ff2",
   "metadata": {},
   "outputs": [],
   "source": []
  },
  {
   "cell_type": "code",
   "execution_count": null,
   "id": "7bde6c10-a25b-447f-9e44-4e9cf1bd0fe2",
   "metadata": {},
   "outputs": [],
   "source": []
  },
  {
   "cell_type": "code",
   "execution_count": null,
   "id": "03b0b015-7d9e-42de-905e-2a2f3a445122",
   "metadata": {},
   "outputs": [],
   "source": []
  },
  {
   "cell_type": "code",
   "execution_count": null,
   "id": "8af3b492-0594-4b66-89ae-df0d44781e94",
   "metadata": {},
   "outputs": [],
   "source": []
  },
  {
   "cell_type": "code",
   "execution_count": null,
   "id": "640bb926-751d-49fd-a696-831780c12ce0",
   "metadata": {},
   "outputs": [],
   "source": []
  },
  {
   "cell_type": "code",
   "execution_count": null,
   "id": "46119cd3-e790-462e-91e9-c2a1f6426c53",
   "metadata": {},
   "outputs": [],
   "source": []
  }
 ],
 "metadata": {
  "kernelspec": {
   "display_name": "Python 3 (ipykernel)",
   "language": "python",
   "name": "python3"
  },
  "language_info": {
   "codemirror_mode": {
    "name": "ipython",
    "version": 3
   },
   "file_extension": ".py",
   "mimetype": "text/x-python",
   "name": "python",
   "nbconvert_exporter": "python",
   "pygments_lexer": "ipython3",
   "version": "3.11.7"
  },
  "widgets": {
   "application/vnd.jupyter.widget-state+json": {
    "state": {},
    "version_major": 2,
    "version_minor": 0
   }
  }
 },
 "nbformat": 4,
 "nbformat_minor": 5
}
